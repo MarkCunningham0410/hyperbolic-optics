{
 "cells": [
  {
   "cell_type": "code",
   "execution_count": 65,
   "metadata": {},
   "outputs": [],
   "source": [
    "import numpy as np\n",
    "import matplotlib.pyplot as plt\n",
    "\n",
    "from matplotlib import rc\n",
    "\n",
    "rc('font', **{'family':'serif','serif':['Palatino']})\n",
    "rc('text', usetex=True)\n",
    "from numpy.linalg import inv as inverse"
   ]
  },
  {
   "cell_type": "code",
   "execution_count": 66,
   "metadata": {},
   "outputs": [],
   "source": [
    "### constants\n",
    "permittivity_ordinary = 2.356\n",
    "permittivity_ext = 2.383"
   ]
  },
  {
   "cell_type": "code",
   "execution_count": 67,
   "metadata": {},
   "outputs": [],
   "source": [
    "wavenumber = np.linspace(410, 600, 500)\n",
    "\n",
    "omega_Tn_ord = np.array([393.5, 450.0, 695.0, 797.0, 1065.0, 1158.0])\n",
    "gamma_Tn_ord = np.array([2.1, 4.5, 13.0, 6.9, 7.2, 9.3])\n",
    "\n",
    "omega_Ln_ord = np.array([403.0, 507.0, 697.6, 810.0, 1226.0, 1155.0])\n",
    "gamma_Ln_ord = np.array([2.8, 3.5, 13.0, 6.9, 12.5, 9.3])\n",
    "\n",
    "omega_Tn_ext = np.array([363.5, 487.5, 777.0, 1071.0])\n",
    "gamma_Tn_ext = np.array([4.8, 4.0, 6.7, 6.8])\n",
    "\n",
    "omega_Ln_ext = np.array([386.7, 550.0, 790.0, 1229.0])\n",
    "gamma_Ln_ext = np.array([7.0, 3.2, 6.7, 12.0])"
   ]
  },
  {
   "cell_type": "code",
   "execution_count": 68,
   "metadata": {},
   "outputs": [],
   "source": [
    "results_ord = []\n",
    "results_ext = []\n",
    "\n",
    "for value in wavenumber:\n",
    "    top_line = omega_Ln_ord**2 - value**2 - 1j * value * gamma_Ln_ord\n",
    "    bottom_line =  omega_Tn_ord**2 - value**2 - 1j * value * gamma_Tn_ord\n",
    "    result = top_line / bottom_line\n",
    "    results_ord.append(permittivity_ordinary * np.prod(result))\n",
    "\n",
    "    top_line = omega_Ln_ext**2 - value**2 - 1j * value * gamma_Ln_ext\n",
    "    bottom_line =  omega_Tn_ext**2 - value**2 - 1j * value * gamma_Tn_ext\n",
    "    result = top_line / bottom_line\n",
    "    results_ext.append(permittivity_ext * np.prod(result))"
   ]
  },
  {
   "cell_type": "code",
   "execution_count": 69,
   "metadata": {},
   "outputs": [],
   "source": [
    "E_zz = np.asarray(results_ord)\n",
    "E_xx = np.asarray(results_ext)\n",
    "\n",
    "def reflection_calculation(wavenumber, angle, E_xx, E_zz, prism_permittivity = 5.5, d = 1.5e-4):\n",
    "    \n",
    "    \n",
    "    k0 = wavenumber * 2.0 * np.pi\n",
    "    kx = k0 * np.sqrt(prism_permittivity) * np.sin(angle)\n",
    "    kz1 = np.sqrt((prism_permittivity * k0**2) - kx**2 + 0j)\n",
    "    kz2 = np.sqrt(k0**2. - kx**2. + 0j)\n",
    "    kz3 = np.sqrt(((k0**2) * E_xx) - ((kx**2.) * E_xx/E_zz))\n",
    "    kz3*= np.where(np.imag(kz3) < 0., -1., 1.)\n",
    "\n",
    "    A11 = -np.exp( 1.j * kz1 * d)\n",
    "    A12 =  np.exp(-1.j * kz2 * d)\n",
    "    A13 =  np.exp( 1.j * kz2 * d)\n",
    "    A14 =  0.\n",
    "    \n",
    "    A21 =  kz1 * np.exp( 1.j * kz1 * d) \n",
    "    A22 =  kz2 * np.exp(-1.j * kz2 * d) * prism_permittivity\n",
    "    A23 = -kz2 * np.exp( 1.j * kz2 * d) * prism_permittivity  \n",
    "    A24 =  0.\n",
    "    \n",
    "    A31 =  0.\n",
    "    A32 =  1.\n",
    "    A33 =  1.\n",
    "    A34 = -1.\n",
    "  \n",
    "    A41 =  0.\n",
    "    A42 = -1.\n",
    "    A43 =  1.    \n",
    "    A44 =  kz3 / (E_xx * kz2)\n",
    "\n",
    "    reflection_matrix = np.array([[A11, A12, A13, A14],\n",
    "                           [A21, A22, A23, A24],\n",
    "                           [A31, A32, A33, A34],\n",
    "                           [A41, A42, A43, A44]])  \n",
    "\n",
    "    column_matrix = np.array([np.exp(-1.j * kz1 * d), kz1 * np.exp(-1.j * kz1 * d), 0., 0.])  \n",
    "\n",
    "    small_r = np.linalg.inv(reflection_matrix).dot(column_matrix)\n",
    "\n",
    "    reflection_value = small_r[0] * np.conj(small_r[0])\n",
    "\n",
    "    return reflection_value\n"
   ]
  },
  {
   "cell_type": "code",
   "execution_count": 70,
   "metadata": {},
   "outputs": [],
   "source": [
    "our_plot = []\n",
    "\n",
    "for i in range(len(wavenumber)):\n",
    "    our_plot.append(reflection_calculation(wavenumber[i], np.pi/4., E_xx[i], E_zz[i]))"
   ]
  },
  {
   "cell_type": "code",
   "execution_count": 71,
   "metadata": {},
   "outputs": [
    {
     "data": {
      "text/plain": [
       "Text(1.3, 550, '$\\\\omega_{L2,ext}$')"
      ]
     },
     "execution_count": 71,
     "metadata": {},
     "output_type": "execute_result"
    },
    {
     "data": {
      "image/png": "[encoded data removed]",
      "text/plain": [
       "<Figure size 200x400 with 1 Axes>"
      ]
     },
     "metadata": {},
     "output_type": "display_data"
    }
   ],
   "source": [
    "plt.rcParams[\"figure.figsize\"] = (2,4)\n",
    "plt.plot(our_plot,wavenumber)\n",
    "plt.xlabel('Reflectivity')\n",
    "plt.ylabel('$\\omega/2\\pi c (cm^{-1})$')\n",
    "plt.xlim(0,1)\n",
    "plt.title('ATR for $\\epsilon_{ext}$ = $\\epsilon_{xx}$ P-Polarised')\n",
    "\n",
    "plt.hlines(450,0,1,'black','dashed')\n",
    "plt.text(1.3, 450, '$\\omega_{T2,ord}$', ha='right', va='center')\n",
    "\n",
    "plt.hlines(507,0,1,'black','dashed')\n",
    "plt.text(1.3, 507, '$\\omega_{L2,ord}$', ha='right', va='center')\n",
    "\n",
    "plt.hlines(487.5,0,1,'black','dashed')\n",
    "plt.text(1.3, 487, '$\\omega_{T2,ext}$', ha='right', va='center')\n",
    "\n",
    "plt.hlines(550,0,1,'black','dashed')\n",
    "plt.text(1.3, 550, '$\\omega_{L2,ext}$', ha='right', va='center')"
   ]
  },
  {
   "cell_type": "code",
   "execution_count": null,
   "metadata": {},
   "outputs": [],
   "source": []
  }
 ],
 "metadata": {
  "kernelspec": {
   "display_name": "Python 3.10.6 ('optics')",
   "language": "python",
   "name": "python3"
  },
  "language_info": {
   "codemirror_mode": {
    "name": "ipython",
    "version": 3
   },
   "file_extension": ".py",
   "mimetype": "text/x-python",
   "name": "python",
   "nbconvert_exporter": "python",
   "pygments_lexer": "ipython3",
   "version": "3.10.6"
  },
  "orig_nbformat": 4,
  "vscode": {
   "interpreter": {
    "hash": "048ccfec21ef0ce21e4fb0883c2e67bd7532a0c57e42167eff8e8f715f961fc6"
   }
  }
 },
 "nbformat": 4,
 "nbformat_minor": 2
}
